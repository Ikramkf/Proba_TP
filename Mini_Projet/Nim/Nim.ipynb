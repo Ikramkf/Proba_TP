{
 "cells": [
  {
   "cell_type": "code",
   "execution_count": 2,
   "metadata": {},
   "outputs": [
    {
     "name": "stdout",
     "output_type": "stream",
     "text": [
      "number of objects is now  21\n"
     ]
    },
    {
     "ename": "TypeError",
     "evalue": "unsupported operand type(s) for -: 'int' and 'str'",
     "output_type": "error",
     "traceback": [
      "\u001b[1;31m---------------------------------------------------------------------------\u001b[0m",
      "\u001b[1;31mTypeError\u001b[0m                                 Traceback (most recent call last)",
      "Cell \u001b[1;32mIn[2], line 6\u001b[0m\n\u001b[0;32m      4\u001b[0m \u001b[39mwhile\u001b[39;00m \u001b[39mTrue\u001b[39;00m:\n\u001b[0;32m      5\u001b[0m     move\u001b[39m=\u001b[39m\u001b[39minput\u001b[39m(\u001b[39m\"\u001b[39m\u001b[39mwhat i your move ?\u001b[39m\u001b[39m\"\u001b[39m)\n\u001b[1;32m----> 6\u001b[0m     state\u001b[39m=\u001b[39mstate\u001b[39m-\u001b[39;49mmove\n\u001b[0;32m      7\u001b[0m     \u001b[39mprint\u001b[39m(\u001b[39m\"\u001b[39m\u001b[39mnumber of objects is now \u001b[39m\u001b[39m\"\u001b[39m , state)\n\u001b[0;32m      8\u001b[0m     \u001b[39mif\u001b[39;00m state\u001b[39m==\u001b[39m\u001b[39m1\u001b[39m:\n",
      "\u001b[1;31mTypeError\u001b[0m: unsupported operand type(s) for -: 'int' and 'str'"
     ]
    }
   ],
   "source": [
    "player=1\n",
    "state=21\n",
    "print(\"number of objects is now \" , state)\n",
    "while True:\n",
    "    move=input(\"what i your move ?\")\n",
    "    state=state-move\n",
    "    print(\"number of objects is now \" , state)\n",
    "    if state==1:\n",
    "        print(\"player\" , player , \"wins!!\")\n",
    "    if player==1:\n",
    "        player=2\n",
    "    else:\n",
    "        player=1\n",
    "print(\"Game is over!.\")"
   ]
  }
 ],
 "metadata": {
  "kernelspec": {
   "display_name": "Python 3.10.1 64-bit",
   "language": "python",
   "name": "python3"
  },
  "language_info": {
   "codemirror_mode": {
    "name": "ipython",
    "version": 3
   },
   "file_extension": ".py",
   "mimetype": "text/x-python",
   "name": "python",
   "nbconvert_exporter": "python",
   "pygments_lexer": "ipython3",
   "version": "3.10.1"
  },
  "orig_nbformat": 4,
  "vscode": {
   "interpreter": {
    "hash": "ad20c83c0518c90f7e6b2a6c6c1cb2bdca31c20cabe6c8767fadfcd8b5f4431f"
   }
  }
 },
 "nbformat": 4,
 "nbformat_minor": 2
}
