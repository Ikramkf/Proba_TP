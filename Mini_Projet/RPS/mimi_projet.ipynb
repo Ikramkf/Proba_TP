{
 "cells": [
  {
   "cell_type": "code",
   "execution_count": 1,
   "metadata": {},
   "outputs": [],
   "source": [
    "import numpy as np #random\n",
    "def RPS():\n",
    "    p1=np.random.choice(['R ','P','S']) \n",
    "    p2=np.random.choice(['R ','P','S'])\n",
    "    if (p1=='R' and p2=='S')or(p1=='S' and p2=='P')or(p1=='P' and p2=='R'):\n",
    "        return 1\n",
    "    elif p1==p2:\n",
    "        return 0\n",
    "    else: \n",
    "        return 2"
   ]
  },
  {
   "cell_type": "code",
   "execution_count": 16,
   "metadata": {},
   "outputs": [
    {
     "data": {
      "text/plain": [
       "2"
      ]
     },
     "execution_count": 16,
     "metadata": {},
     "output_type": "execute_result"
    }
   ],
   "source": [
    "RPS()"
   ]
  },
  {
   "cell_type": "code",
   "execution_count": 22,
   "metadata": {},
   "outputs": [
    {
     "name": "stdout",
     "output_type": "stream",
     "text": [
      "%p1 gagne =11.4, %p2 gagne =54.790000000000006,% match nul =33.81\n"
     ]
    }
   ],
   "source": [
    "N=10000\n",
    "L=[RPS()for k in range(N)]\n",
    "p1=(L.count(1)/N)*100\n",
    "p2=(L.count(2)/N)*100\n",
    "px=(L.count(0)/N)*100\n",
    "print(f'%p1 gagne ={p1}, %p2 gagne ={p2},% match nul ={px}')"
   ]
  }
 ],
 "metadata": {
  "kernelspec": {
   "display_name": "Python 3.9.13 ('base')",
   "language": "python",
   "name": "python3"
  },
  "language_info": {
   "codemirror_mode": {
    "name": "ipython",
    "version": 3
   },
   "file_extension": ".py",
   "mimetype": "text/x-python",
   "name": "python",
   "nbconvert_exporter": "python",
   "pygments_lexer": "ipython3",
   "version": "3.9.13 (main, Aug 25 2022, 23:51:50) [MSC v.1916 64 bit (AMD64)]"
  },
  "orig_nbformat": 4,
  "vscode": {
   "interpreter": {
    "hash": "e3ad2176c60f2c4fb46fa08f27375486a87edd06250756166d8d770c81c1e771"
   }
  }
 },
 "nbformat": 4,
 "nbformat_minor": 2
}
