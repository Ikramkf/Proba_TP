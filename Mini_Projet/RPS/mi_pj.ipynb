{
 "cells": [
  {
   "cell_type": "code",
   "execution_count": 1,
   "metadata": {},
   "outputs": [],
   "source": [
    "import numpy as np"
   ]
  },
  {
   "cell_type": "code",
   "execution_count": 2,
   "metadata": {},
   "outputs": [],
   "source": [
    "def RPS():\n",
    "    p1=np.random.choice(['R ','P','S']) \n",
    "    p2=np.random.choice(['R ','P','S'])\n",
    "    if p1==\"S\" and p2=='P':\n",
    "        return 1\n",
    "    elif p1=='R'and p2=='S' :\n",
    "        return 1\n",
    "    elif p1=='P'and p2=='R':\n",
    "        return 1\n",
    "    elif p1==p2:\n",
    "        return 0\n",
    "    elif p2=='R' and p1=='S':\n",
    "        return 2\n",
    "    elif p2=='P' and p1=='R':\n",
    "        return 2\n",
    "    elif p2=='S' and p1=='P':\n",
    "        return 2\n",
    "    "
   ]
  },
  {
   "cell_type": "code",
   "execution_count": 3,
   "metadata": {},
   "outputs": [],
   "source": [
    "RPS()"
   ]
  },
  {
   "cell_type": "code",
   "execution_count": 6,
   "metadata": {},
   "outputs": [
    {
     "name": "stdout",
     "output_type": "stream",
     "text": [
      "%p1 gagne =11.16, %p2 gagne =11.200000000000001,% match nul =32.37\n"
     ]
    }
   ],
   "source": [
    "N=10000\n",
    "L=[RPS()for k in range(N)]\n",
    "p1=(L.count(1)/N)*100\n",
    "p2=(L.count(2)/N)*100\n",
    "px=(L.count(0)/N)*100\n",
    "print(f'%p1 gagne ={p1}, %p2 gagne ={p2},% match nul ={px}')"
   ]
  }
 ],
 "metadata": {
  "kernelspec": {
   "display_name": "Python 3.9.13 ('base')",
   "language": "python",
   "name": "python3"
  },
  "language_info": {
   "codemirror_mode": {
    "name": "ipython",
    "version": 3
   },
   "file_extension": ".py",
   "mimetype": "text/x-python",
   "name": "python",
   "nbconvert_exporter": "python",
   "pygments_lexer": "ipython3",
   "version": "3.9.13 (main, Aug 25 2022, 23:51:50) [MSC v.1916 64 bit (AMD64)]"
  },
  "orig_nbformat": 4,
  "vscode": {
   "interpreter": {
    "hash": "e3ad2176c60f2c4fb46fa08f27375486a87edd06250756166d8d770c81c1e771"
   }
  }
 },
 "nbformat": 4,
 "nbformat_minor": 2
}
