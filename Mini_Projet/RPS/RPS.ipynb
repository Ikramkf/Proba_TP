{
 "cells": [
  {
   "cell_type": "code",
   "execution_count": 21,
   "metadata": {},
   "outputs": [],
   "source": [
    "import random\n",
    "def RPS():\n",
    "    options = ('r','p','s')\n",
    "    computer=random.choice(options)\n",
    "    player=random.choice(options)\n",
    "    if player == computer:\n",
    "        return 0\n",
    "    elif player == 'r' and computer=='s':\n",
    "        return 1\n",
    "    elif player == 'p' and computer=='r':\n",
    "        return 1\n",
    "    elif player == 's' and computer=='p':\n",
    "        return 1\n",
    "    else:\n",
    "        return 2\n"
   ]
  },
  {
   "cell_type": "code",
   "execution_count": 26,
   "metadata": {},
   "outputs": [
    {
     "name": "stdout",
     "output_type": "stream",
     "text": [
      "%player gagne =30.0, %computer gagne =30.0,% match nul =40.0\n"
     ]
    }
   ],
   "source": [
    "N=10\n",
    "L=[RPS()for k in range(N)]\n",
    "P=(L.count(1)/N)*100\n",
    "C=(L.count(2)/N)*100\n",
    "N=(L.count(0)/N)*100\n",
    "print(f'%player gagne ={P}, %computer gagne ={C},% match nul ={N}')"
   ]
  }
 ],
 "metadata": {
  "kernelspec": {
   "display_name": "Python 3.9.13 ('base')",
   "language": "python",
   "name": "python3"
  },
  "language_info": {
   "codemirror_mode": {
    "name": "ipython",
    "version": 3
   },
   "file_extension": ".py",
   "mimetype": "text/x-python",
   "name": "python",
   "nbconvert_exporter": "python",
   "pygments_lexer": "ipython3",
   "version": "3.9.13"
  },
  "orig_nbformat": 4,
  "vscode": {
   "interpreter": {
    "hash": "e3ad2176c60f2c4fb46fa08f27375486a87edd06250756166d8d770c81c1e771"
   }
  }
 },
 "nbformat": 4,
 "nbformat_minor": 2
}
