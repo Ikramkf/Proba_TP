{
 "cells": [
  {
   "cell_type": "code",
   "execution_count": null,
   "metadata": {},
   "outputs": [],
   "source": [
    "import random\n",
    "\n",
    "options = ('r','p','s')\n",
    "player = None\n",
    "computer=random.choice(options)\n",
    "player=input(\"Enter a choice ( r , p, s ):\")\n",
    "print(f'Player : {player}')\n",
    "print(f'computer : {computer}')\n",
    "if player == computer:\n",
    "    print(\"nul\")\n",
    "elif player == 'r' and computer=='s':\n",
    "    print(\"Player wins\")\n",
    "elif player == 'p' and computer=='r':\n",
    "    print(\"Player wins\")\n",
    "elif player == 's' and computer=='p':\n",
    "    print(\"Player wins\")\n",
    "else:\n",
    "    print('player loses')\n"
   ]
  }
 ],
 "metadata": {
  "kernelspec": {
   "display_name": "Python 3.9.13 ('base')",
   "language": "python",
   "name": "python3"
  },
  "language_info": {
   "codemirror_mode": {
    "name": "ipython",
    "version": 3
   },
   "file_extension": ".py",
   "mimetype": "text/x-python",
   "name": "python",
   "nbconvert_exporter": "python",
   "pygments_lexer": "ipython3",
   "version": "3.9.13"
  },
  "orig_nbformat": 4,
  "vscode": {
   "interpreter": {
    "hash": "e3ad2176c60f2c4fb46fa08f27375486a87edd06250756166d8d770c81c1e771"
   }
  }
 },
 "nbformat": 4,
 "nbformat_minor": 2
}
