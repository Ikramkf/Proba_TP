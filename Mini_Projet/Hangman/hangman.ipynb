{
 "cells": [
  {
   "cell_type": "code",
   "execution_count": 1,
   "metadata": {},
   "outputs": [
    {
     "name": "stdout",
     "output_type": "stream",
     "text": [
      "_ _ _ _ _ _ "
     ]
    }
   ],
   "source": [
    "import random\n",
    "\n",
    "word_list=[\"robots\",\"sun\",\"car\",\"travel\",\"contribution\",\"university\",\"python\",\"stairs\",\"space\",\"lost\",\"down\"]\n",
    "word=random.choice(word_list)\n",
    "\n",
    "for x in word:\n",
    "    print(\"_\",end=\" \")"
   ]
  },
  {
   "cell_type": "code",
   "execution_count": 2,
   "metadata": {},
   "outputs": [],
   "source": [
    "def print_hangman(wrong):\n",
    "    if(wrong==0):\n",
    "        print(\"\\n+---+\")\n",
    "        print(\"    |\")\n",
    "        print(\"    |\")\n",
    "        print(\"    |\")\n",
    "        print(\"   ===\")\n",
    "    elif(wrong == 1):\n",
    "        print(\"\\n+---+\")\n",
    "        print(\"O  |\")\n",
    "        print(\"    |\")\n",
    "        print(\"    |\")\n",
    "        print(\"   ===\")\n",
    "    elif(wrong == 2):\n",
    "        print(\"\\n+---+\")\n",
    "        print(\"O  |\")\n",
    "        print(\"|   |\")\n",
    "        print(\"    |\")\n",
    "        print(\"   ===\")\n",
    "    elif(wrong == 3):\n",
    "        print(\"\\n+---+\")\n",
    "        print(\" O  |\")\n",
    "        print(\"/|  |\")\n",
    "        print(\"    |\")\n",
    "        print(\"   ===\")\n",
    "\n",
    "    elif(wrong == 4):\n",
    "        print(\"\\n+---+\")\n",
    "        print(\" O  |\")\n",
    "        print(\"/|\\ |\")\n",
    "        print(\"    |\")\n",
    "        print(\"   ===\")\n",
    "\n",
    "        \n",
    "    elif(wrong == 5):\n",
    "        print(\"\\n+---+\")\n",
    "        print(\" O  |\")\n",
    "        print(\"/|\\ |\")\n",
    "        print(\"/   |\")\n",
    "        print(\"   ===\")\n",
    "    elif(wrong == 6):\n",
    "        print(\"\\n+---+\")\n",
    "        print(\" O  |\")\n",
    "        print(\"/|\\ |\")\n",
    "        print(\"/ \\ |\")\n",
    "        print(\"   ===\")"
   ]
  },
  {
   "cell_type": "code",
   "execution_count": 3,
   "metadata": {},
   "outputs": [],
   "source": [
    "def printWord(guessedLetters):\n",
    "    counter=0\n",
    "    rightletters=0\n",
    "    for char in word:\n",
    "        if(char in guessedLetters):\n",
    "            print(word[counter],end=\" \")\n",
    "        else:\n",
    "            print(\" \", end=\" \")\n",
    "        counter+=1\n",
    "    return rightletters"
   ]
  },
  {
   "cell_type": "code",
   "execution_count": 4,
   "metadata": {},
   "outputs": [
    {
     "name": "stdout",
     "output_type": "stream",
     "text": [
      "\n",
      "Letters guessed : \n"
     ]
    }
   ],
   "source": [
    "def printLines():\n",
    "    print(\"\\r\")\n",
    "    for char in word:\n",
    "        print(\"\\u203E\",end=\" \")\n",
    "\n",
    "length_of_word_to_guess = len(word)\n",
    "amount_of_time_wrong=0\n",
    "current_guess_index=0\n",
    "current_letters_guessed=[]\n",
    "current_letters_right=0\n",
    "\n",
    "while(amount_of_time_wrong!=6 and current_letters_right!= length_of_word_to_guess):\n",
    "    print(\"\\nLetters guessed : \")\n",
    "    for letter in current_letters_guessed:\n",
    "        print(letter , end=\" \")\n",
    "    letterGuessed=input(\"Guess a letter : \")\n",
    "    if(word[current_guess_index]==letterGuessed):\n",
    "        print_hangman(amount_of_time_wrong)\n",
    "        current_guess_index+=1\n",
    "        current_letters_guessed.append(letterGuessed)\n",
    "        current_letters_right = printWord(current_letters_guessed)\n",
    "        printLines()\n",
    "    else:\n",
    "        amount_of_time_wrong+=1\n",
    "        current_letters_guessed.append(letterGuessed)\n",
    "        print_hangman(amount_of_time_wrong)\n",
    "        current_letters_right=printWord(current_letters_guessed)\n",
    "        printLines()\n",
    "print(\"game is OVER \")"
   ]
  },
  {
   "cell_type": "code",
   "execution_count": null,
   "metadata": {},
   "outputs": [],
   "source": []
  }
 ],
 "metadata": {
  "kernelspec": {
   "display_name": "base",
   "language": "python",
   "name": "python3"
  },
  "language_info": {
   "codemirror_mode": {
    "name": "ipython",
    "version": 3
   },
   "file_extension": ".py",
   "mimetype": "text/x-python",
   "name": "python",
   "nbconvert_exporter": "python",
   "pygments_lexer": "ipython3",
   "version": "3.9.13"
  },
  "orig_nbformat": 4,
  "vscode": {
   "interpreter": {
    "hash": "e3ad2176c60f2c4fb46fa08f27375486a87edd06250756166d8d770c81c1e771"
   }
  }
 },
 "nbformat": 4,
 "nbformat_minor": 2
}
