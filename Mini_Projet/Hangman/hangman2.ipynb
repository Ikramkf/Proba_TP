{
 "cells": [
  {
   "cell_type": "code",
   "execution_count": null,
   "metadata": {},
   "outputs": [],
   "source": [
    "import random\n",
    "\n",
    "word_list=[\"robots\",\"sun\",\"car\",\"travel\",\"contribution\",\"university\",\"python\",\"stairs\",\"space\",\"lost\",\"down\"]\n",
    "\n"
   ]
  },
  {
   "cell_type": "code",
   "execution_count": null,
   "metadata": {},
   "outputs": [],
   "source": [
    "def get_word():\n",
    "    word = random.choice(word_list)\n",
    "    return word.upper()"
   ]
  },
  {
   "cell_type": "code",
   "execution_count": null,
   "metadata": {},
   "outputs": [],
   "source": [
    "get_word()"
   ]
  },
  {
   "cell_type": "code",
   "execution_count": null,
   "metadata": {},
   "outputs": [],
   "source": [
    "import string \n",
    "letters=list(string.ascii_uppercase)\n",
    "x=random.choice(letters)\n",
    "print(x)"
   ]
  },
  {
   "cell_type": "code",
   "execution_count": null,
   "metadata": {},
   "outputs": [],
   "source": [
    "import string \n",
    "import random\n",
    "def game():\n",
    "    word=random.choice(word_list)\n",
    "    guessedLetters=[]\n",
    "    tries=7\n",
    "    guessed=False\n",
    "    print(\"the word contains \" , len(word) , \" letters\")\n",
    "    print(len(word)*' _ ')\n",
    "    letters=list(string.ascii_uppercase)\n",
    "    x=random.choice(letters)\n",
    "    print(x)\n",
    "    if x in guessedLetters:\n",
    "        print(\"lettre deja :\" , x)\n",
    "    elif x not in word:\n",
    "        print(x , \" n est pas dans le mot \")\n",
    "        guessedLetters.append(x)\n",
    "        tries-=1\n",
    "    elif x in word:\n",
    "        print(x , \" existe dans le mot \")\n",
    "        guessedLetters.append(x)\n",
    "    else:\n",
    "        print(\" t as rien tapé\")\n",
    "    \n",
    "    status=''\n",
    "    if guessed == False:\n",
    "        for letter in word:\n",
    "            if letter in guessedLetters:\n",
    "                status+=letter\n",
    "            else:\n",
    "                status+='_'\n",
    "        print(status)\n",
    "\n",
    "    if status == word :\n",
    "        print(\"word guessed\")\n",
    "        guessed=True\n",
    "    elif tries == 0:\n",
    "        print(\"dommage\")\n",
    "    \n",
    "\n"
   ]
  },
  {
   "cell_type": "code",
   "execution_count": null,
   "metadata": {},
   "outputs": [],
   "source": [
    "game()"
   ]
  }
 ],
 "metadata": {
  "kernelspec": {
   "display_name": "base",
   "language": "python",
   "name": "python3"
  },
  "language_info": {
   "codemirror_mode": {
    "name": "ipython",
    "version": 3
   },
   "file_extension": ".py",
   "mimetype": "text/x-python",
   "name": "python",
   "nbconvert_exporter": "python",
   "pygments_lexer": "ipython3",
   "version": "3.9.13"
  },
  "orig_nbformat": 4,
  "vscode": {
   "interpreter": {
    "hash": "e3ad2176c60f2c4fb46fa08f27375486a87edd06250756166d8d770c81c1e771"
   }
  }
 },
 "nbformat": 4,
 "nbformat_minor": 2
}
