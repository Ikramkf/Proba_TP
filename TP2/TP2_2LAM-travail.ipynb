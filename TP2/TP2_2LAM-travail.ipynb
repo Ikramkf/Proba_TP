{
 "cells": [
  {
   "cell_type": "markdown",
   "metadata": {},
   "source": [
    "# Simulation du jeux de LIDO simplifié"
   ]
  },
  {
   "cell_type": "markdown",
   "metadata": {},
   "source": [
    "## Principe\n",
    "On considére un jeux de Lido simple:\n",
    "on dispose d'un un seul pion.\n",
    "\n",
    "- Etape 0 :\n",
    "Le pion doit sort de sa prison lorsqu'on obtient un 6.\n",
    "\n",
    "- Etape 1 :\n",
    "Le pion doit atteindre exactement une position cible situé à N pas de distance de sa prison \n",
    "\n",
    "Soit $X_n$ la variable aléatoire qui represente le nombre de coup nécéssaire pour atteindre la positions cible.\n",
    "\n",
    "**Objectif 1** : Simuler le jeux \n",
    "\n",
    "**Objectif 2** : Calculer une estimation de l'éspérance mathématique de $X_n$ en utilisant `python`\n",
    "\n",
    "**Objéctif 3** : Observer la variation de $\\mathbb{E}(X_n)$ en fonction de $n$\n",
    "\n",
    "<img src=\"LIDO.png\">\n"
   ]
  },
  {
   "cell_type": "code",
   "execution_count": null,
   "metadata": {},
   "outputs": [],
   "source": [
    "import numpy as np"
   ]
  },
  {
   "cell_type": "markdown",
   "metadata": {},
   "source": [
    "### Simulation du lancé de dé"
   ]
  },
  {
   "cell_type": "code",
   "execution_count": null,
   "metadata": {},
   "outputs": [],
   "source": [
    "def Roll():\n",
    "    return int(np.random.choice([1,2,3,4,5,6],replace=True))#replace= si on met false il ne reperte pas un valeur deja choisi , true il donne tjrs tous les valeurs"
   ]
  },
  {
   "cell_type": "code",
   "execution_count": null,
   "metadata": {},
   "outputs": [],
   "source": [
    "Roll()"
   ]
  },
  {
   "cell_type": "code",
   "execution_count": null,
   "metadata": {},
   "outputs": [],
   "source": [
    "for i in range(15):#on va lancé le dé 15 fois et a chaque lancé on note la resultat obtenue\n",
    "    print(Roll())"
   ]
  },
  {
   "cell_type": "code",
   "execution_count": null,
   "metadata": {},
   "outputs": [],
   "source": [
    "POS=0 #pion dans le prison\n",
    "NBCOUP=0#initialiser nombre de coups à 0 \n",
    "CIBLE=20#on veut arriver à la case num 20 \n",
    "temp=Roll()\n",
    "NBCOUP+=1#a chaque lancé on incremente le nombre de coups \n",
    "\n",
    "if temp == 6:\n",
    "    POS=1 #si on obitient 6 au premier lancé , on sort du prison \n",
    "    print(NBCOUP,temp,POS)\n",
    "else:\n",
    "    print(NBCOUP,temp,POS)\n",
    "    while temp!=6:#tant que le de obtenu different de 6 \n",
    "        temp=Roll()#on lance encore une fois\n",
    "        NBCOUP+=1\n",
    "        if temp==6:\n",
    "            POS=1\n",
    "            print(NBCOUP,temp,POS)\n",
    "            break\n",
    "        print(NBCOUP,temp,POS)\n",
    "print(f'le pion est sorti apres {NBCOUP} Coups')\n",
    "\n",
    "#c est le code de sortir du prision \n",
    "#2eme partie : vers le cible \n",
    "\n",
    "while POS<CIBLE:#tant que on arrive pas au cible \n",
    "    #on verifie la position du pion en ajoutant la valeur du dé  par rapport au cible \n",
    "    temp=Roll()\n",
    "    NBCOUP+=1\n",
    "    if POS+temp>CIBLE:#si la pos du pion et la valeur du dé depassent le cible\n",
    "       \n",
    "        print(NBCOUP,temp,POS)\n",
    "    elif POS+temp==CIBLE:#si la position et la valeur du dé egalent au cible\n",
    "        POS=CIBLE#le pion arrive au cible\n",
    "        print(NBCOUP,temp,POS)\n",
    "    else:\n",
    "        \n",
    "        POS+=temp\n",
    "        print(NBCOUP,temp,POS)#sinon on continue à avancer \n",
    "print(f'le jeu est terminé apres {NBCOUP} Coups')\n",
    "#Cest le script \n"
   ]
  },
  {
   "cell_type": "code",
   "execution_count": null,
   "metadata": {},
   "outputs": [],
   "source": [
    "def LUDO(CIBLE):\n",
    "    POS=0 #pion dans le prison\n",
    "    NBCOUP=0#nb de coups initialisé à 0\n",
    "    CIBLE=20\n",
    "    temp=Roll()\n",
    "    NBCOUP+=1\n",
    "\n",
    "    if temp == 6:\n",
    "        POS=1\n",
    "        #print(NBCOUP,temp,POS)\n",
    "    else:\n",
    "        #print(NBCOUP,temp,POS)\n",
    "        while temp!=6:\n",
    "            temp=Roll()\n",
    "            NBCOUP+=1\n",
    "            if temp==6:\n",
    "                POS=1\n",
    "                #print(NBCOUP,temp,POS)\n",
    "                break\n",
    "            #print(NBCOUP,temp,POS)\n",
    "    #print(f'le pion est sorti apres{NBCOUP} Coups')\n",
    "\n",
    "    #c est le code de sortir du prision \n",
    "    #2eme partie : vers le cible \n",
    "\n",
    "    while POS<CIBLE:\n",
    "        temp=Roll()\n",
    "        NBCOUP+=1\n",
    "        if POS+temp>CIBLE:\n",
    "            pass #instruction vide\n",
    "            #print(NBCOUP,temp,POS)\n",
    "        elif POS+temp==CIBLE:\n",
    "            POS=CIBLE\n",
    "            #print(NBCOUP,temp,POS)\n",
    "        else:\n",
    "            \n",
    "            POS+=temp\n",
    "            #print(NBCOUP,temp,POS)\n",
    "    #print(f'le jeu est terminé apres {NBCOUP} Coups')\n",
    "    return(NBCOUP)"
   ]
  },
  {
   "cell_type": "code",
   "execution_count": null,
   "metadata": {},
   "outputs": [],
   "source": [
    "LUDO(20)#on fait simulation avec le cible 20"
   ]
  },
  {
   "cell_type": "code",
   "execution_count": null,
   "metadata": {},
   "outputs": [],
   "source": [
    "sum([LUDO(20) for i in range(10_000)])/10_000 #on calcule la moyenne de lancers pour arriver au cible 20 apres 10000 simulations\n"
   ]
  },
  {
   "cell_type": "code",
   "execution_count": null,
   "metadata": {},
   "outputs": [],
   "source": [
    "cib=[20,25,30,35,40,45]#on change a chaque fois le nombre de cible et on applique fonction cib , apres on calcule la moyenne \n",
    "moy=[sum([LUDO(c) for i in range(10_000)])/10_000 for c in cib]"
   ]
  },
  {
   "cell_type": "code",
   "execution_count": null,
   "metadata": {},
   "outputs": [],
   "source": [
    "import matplotlib.pyplot as plt\n",
    "\n",
    "plt.plot(cib,moy,'og')#presenter les moyennes des lancers \n",
    "#cib: sur x\n",
    "#moy : sur y \n",
    "#o : dot \n",
    "#g: green\n",
    "plt.show()"
   ]
  },
  {
   "cell_type": "code",
   "execution_count": null,
   "metadata": {},
   "outputs": [],
   "source": [
    "from scipy import stats \n",
    "slope , intercept , r_value , p_value , std_err=stats.linregress(cib,moy)\n"
   ]
  },
  {
   "cell_type": "code",
   "execution_count": null,
   "metadata": {},
   "outputs": [],
   "source": [
    "a,b=slope,intercept\n",
    "print(a,b)"
   ]
  },
  {
   "cell_type": "code",
   "execution_count": null,
   "metadata": {},
   "outputs": [],
   "source": [
    "plt.plot(cib,moy,'ob')\n",
    "x=np.linspace(20,45,1001)#intervalle entre 20et 45 \n",
    "y=a*x+b#x taille de table lubo\n",
    "plt.plot(x,y,'-r')#formule replace directement dans simulation \n",
    "plt.show()"
   ]
  },
  {
   "cell_type": "markdown",
   "metadata": {},
   "source": [
    "### Simulation\n",
    "Ecrire une foction `sim` qui simule le jeux et qui prend comme variable le nombre de pas $n$ nécessazire pour atteindre la cible"
   ]
  },
  {
   "cell_type": "code",
   "execution_count": null,
   "metadata": {},
   "outputs": [],
   "source": [
    "def sim(S):\n",
    "    A=0\n",
    "    NA=0\n",
    "    c=0\n",
    "    while (A<S) :\n",
    "        pass\n",
    "    return c"
   ]
  },
  {
   "cell_type": "code",
   "execution_count": null,
   "metadata": {},
   "outputs": [],
   "source": [
    "sim(20)"
   ]
  },
  {
   "cell_type": "markdown",
   "metadata": {},
   "source": [
    "### Simulation de $10^5$  scénario "
   ]
  },
  {
   "cell_type": "code",
   "execution_count": null,
   "metadata": {},
   "outputs": [],
   "source": [
    "Freq=np.fromiter((sim(20) for i in range(10**5)),dtype=int)"
   ]
  },
  {
   "cell_type": "code",
   "execution_count": null,
   "metadata": {},
   "outputs": [],
   "source": [
    "ESP=Freq.sum()/10**5"
   ]
  },
  {
   "cell_type": "code",
   "execution_count": null,
   "metadata": {},
   "outputs": [],
   "source": [
    "x=list(range(10,20))"
   ]
  },
  {
   "cell_type": "code",
   "execution_count": null,
   "metadata": {},
   "outputs": [],
   "source": [
    "y=[np.fromiter((sim(u) for i in range(5*10**4)),dtype=int).sum()/50000 for u in x]"
   ]
  },
  {
   "cell_type": "code",
   "execution_count": null,
   "metadata": {},
   "outputs": [],
   "source": [
    "import matplotlib.pyplot as plt"
   ]
  },
  {
   "cell_type": "code",
   "execution_count": null,
   "metadata": {},
   "outputs": [],
   "source": [
    "plt.plot(x,y)"
   ]
  },
  {
   "cell_type": "code",
   "execution_count": null,
   "metadata": {},
   "outputs": [],
   "source": [
    "from scipy import stats\n",
    "import numpy as np\n",
    "slope, intercept, r_value, p_value, std_err = stats.linregress(x,y)"
   ]
  },
  {
   "cell_type": "code",
   "execution_count": null,
   "metadata": {},
   "outputs": [],
   "source": [
    "slope"
   ]
  },
  {
   "cell_type": "code",
   "execution_count": null,
   "metadata": {},
   "outputs": [],
   "source": [
    "intercept\n"
   ]
  },
  {
   "cell_type": "code",
   "execution_count": null,
   "metadata": {},
   "outputs": [],
   "source": [
    "yy=[slope*u+intercept for u in x]"
   ]
  },
  {
   "cell_type": "code",
   "execution_count": null,
   "metadata": {},
   "outputs": [],
   "source": [
    "plt.show(plt.plot(x,y,'.',x,yy,'r-'))"
   ]
  }
 ],
 "metadata": {
  "kernelspec": {
   "display_name": "base",
   "language": "python",
   "name": "python3"
  },
  "language_info": {
   "codemirror_mode": {
    "name": "ipython",
    "version": 3
   },
   "file_extension": ".py",
   "mimetype": "text/x-python",
   "name": "python",
   "nbconvert_exporter": "python",
   "pygments_lexer": "ipython3",
   "version": "3.9.13"
  },
  "vscode": {
   "interpreter": {
    "hash": "e3ad2176c60f2c4fb46fa08f27375486a87edd06250756166d8d770c81c1e771"
   }
  }
 },
 "nbformat": 4,
 "nbformat_minor": 4
}
