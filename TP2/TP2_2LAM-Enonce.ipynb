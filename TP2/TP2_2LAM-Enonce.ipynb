{
 "cells": [
  {
   "cell_type": "markdown",
   "metadata": {},
   "source": [
    "# Simulation du jeux de LIDO simplifié"
   ]
  },
  {
   "cell_type": "markdown",
   "metadata": {},
   "source": [
    "## Principe\n",
    "On considére un jeux de Lido simple:\n",
    "on dispose d'un un seul pion.\n",
    "\n",
    "- Etape 0 :\n",
    "Le pion doit sort de sa prison lorsqu'on obtient un 6.\n",
    "\n",
    "- Etape 1 :\n",
    "Le pion doit atteindre exactement une position cible situé à N pas de distance de sa prison \n",
    "\n",
    "Soit $X_n$ la variable aléatoire qui represente le nombre de coup nécéssaire pour atteindre la positions cible.\n",
    "\n",
    "**Objectif 1** : Simuler le jeux \n",
    "\n",
    "**Objectif 2** : Calculer une estimation de l'éspérance mathématique de $X_n$ en utilisant `python`\n",
    "\n",
    "**Objéctif 3** : Observer la variation de $\\mathbb{E}(X_n)$ en fonction de $n$\n",
    "\n",
    "<img src=\"LIDO.png\">\n"
   ]
  },
  {
   "cell_type": "code",
   "execution_count": 1,
   "metadata": {},
   "outputs": [],
   "source": [
    "import numpy as np"
   ]
  },
  {
   "cell_type": "markdown",
   "metadata": {},
   "source": [
    "### Simulation du lancé de dé"
   ]
  },
  {
   "cell_type": "code",
   "execution_count": 3,
   "metadata": {},
   "outputs": [],
   "source": [
    "def Roll():\n",
    "    return int(np.random.choice([1,2,3,4,5,6],replace=True))#replce= si on met false il ne reperte pas un valeur deja choisi , true il donne tjrs tous les valeurs"
   ]
  },
  {
   "cell_type": "code",
   "execution_count": 8,
   "metadata": {},
   "outputs": [
    {
     "data": {
      "text/plain": [
       "6"
      ]
     },
     "execution_count": 8,
     "metadata": {},
     "output_type": "execute_result"
    }
   ],
   "source": [
    "Roll()"
   ]
  },
  {
   "cell_type": "code",
   "execution_count": 9,
   "metadata": {},
   "outputs": [
    {
     "name": "stdout",
     "output_type": "stream",
     "text": [
      "4\n",
      "6\n",
      "5\n",
      "4\n",
      "3\n",
      "2\n",
      "5\n",
      "2\n",
      "2\n",
      "2\n",
      "4\n",
      "5\n",
      "5\n",
      "3\n",
      "2\n"
     ]
    }
   ],
   "source": [
    "for i in range(15):\n",
    "    print(Roll())"
   ]
  },
  {
   "cell_type": "code",
   "execution_count": 34,
   "metadata": {},
   "outputs": [
    {
     "name": "stdout",
     "output_type": "stream",
     "text": [
      "1 1 0\n",
      "2 2 0\n",
      "3 5 0\n",
      "4 3 0\n",
      "5 5 0\n",
      "6 2 0\n",
      "7 2 0\n",
      "8 4 0\n",
      "9 4 0\n",
      "10 3 0\n",
      "11 3 0\n",
      "12 6 1\n",
      "le pion est sorti apres12 Coups\n",
      "13 4 5\n",
      "14 2 7\n",
      "15 6 13\n",
      "16 1 14\n",
      "17 6 20\n",
      "le jeu est terminé apres 17 Coups\n"
     ]
    }
   ],
   "source": [
    "POS=0 #pion dans le prison\n",
    "NBCOUP=0\n",
    "CIBLE=20\n",
    "temp=Roll()\n",
    "NBCOUP+=1\n",
    "\n",
    "if temp == 6:\n",
    "    POS=1\n",
    "    print(NBCOUP,temp,POS)\n",
    "else:\n",
    "    print(NBCOUP,temp,POS)\n",
    "    while temp!=6:\n",
    "        temp=Roll()\n",
    "        NBCOUP+=1\n",
    "        if temp==6:\n",
    "            POS=1\n",
    "            print(NBCOUP,temp,POS)\n",
    "            break\n",
    "        print(NBCOUP,temp,POS)\n",
    "print(f'le pion est sorti apres{NBCOUP} Coups')\n",
    "\n",
    "#c est le code de sortir du prision \n",
    "#2eme partie : vers le cible \n",
    "\n",
    "while POS<CIBLE:\n",
    "    temp=Roll()\n",
    "    NBCOUP+=1\n",
    "    if POS+temp>CIBLE:\n",
    "       \n",
    "        print(NBCOUP,temp,POS)\n",
    "    elif POS+temp==CIBLE:\n",
    "        POS=CIBLE\n",
    "        print(NBCOUP,temp,POS)\n",
    "    else:\n",
    "        \n",
    "        POS+=temp\n",
    "        print(NBCOUP,temp,POS)\n",
    "print(f'le jeu est terminé apres {NBCOUP} Coups')\n",
    "#Cest le script \n"
   ]
  },
  {
   "cell_type": "code",
   "execution_count": 35,
   "metadata": {},
   "outputs": [],
   "source": [
    "def LUDO(CIBLE):\n",
    "    POS=0 #pion dans le prison\n",
    "    NBCOUP=0\n",
    "    CIBLE=20\n",
    "    temp=Roll()\n",
    "    NBCOUP+=1\n",
    "\n",
    "    if temp == 6:\n",
    "        POS=1\n",
    "        #print(NBCOUP,temp,POS)\n",
    "    else:\n",
    "        #print(NBCOUP,temp,POS)\n",
    "        while temp!=6:\n",
    "            temp=Roll()\n",
    "            NBCOUP+=1\n",
    "            if temp==6:\n",
    "                POS=1\n",
    "                #print(NBCOUP,temp,POS)\n",
    "                break\n",
    "            #print(NBCOUP,temp,POS)\n",
    "    #print(f'le pion est sorti apres{NBCOUP} Coups')\n",
    "\n",
    "    #c est le code de sortir du prision \n",
    "    #2eme partie : vers le cible \n",
    "\n",
    "    while POS<CIBLE:\n",
    "        temp=Roll()\n",
    "        NBCOUP+=1\n",
    "        if POS+temp>CIBLE:\n",
    "            pass #instruction vide\n",
    "            #print(NBCOUP,temp,POS)\n",
    "        elif POS+temp==CIBLE:\n",
    "            POS=CIBLE\n",
    "            #print(NBCOUP,temp,POS)\n",
    "        else:\n",
    "            \n",
    "            POS+=temp\n",
    "            #print(NBCOUP,temp,POS)\n",
    "    #print(f'le jeu est terminé apres {NBCOUP} Coups')\n",
    "    return(NBCOUP)"
   ]
  },
  {
   "cell_type": "code",
   "execution_count": 38,
   "metadata": {},
   "outputs": [
    {
     "data": {
      "text/plain": [
       "6"
      ]
     },
     "execution_count": 38,
     "metadata": {},
     "output_type": "execute_result"
    }
   ],
   "source": [
    "LUDO(20)"
   ]
  },
  {
   "cell_type": "code",
   "execution_count": 39,
   "metadata": {},
   "outputs": [
    {
     "data": {
      "text/plain": [
       "16.1442"
      ]
     },
     "execution_count": 39,
     "metadata": {},
     "output_type": "execute_result"
    }
   ],
   "source": [
    "sum([LUDO(20) for i in range(10_000)])/10_000\n"
   ]
  },
  {
   "cell_type": "code",
   "execution_count": 40,
   "metadata": {},
   "outputs": [],
   "source": [
    "cib=[20,25,30,35,40,45]\n",
    "moy=[sum([LUDO(c) for i in range(10_000)])/10_000 for c in cib]"
   ]
  },
  {
   "cell_type": "code",
   "execution_count": 54,
   "metadata": {},
   "outputs": [
    {
     "name": "stdout",
     "output_type": "stream",
     "text": [
      "Collecting matplotlib\n",
      "  Downloading matplotlib-3.6.2-cp310-cp310-win_amd64.whl (7.2 MB)\n",
      "     ---------------------------------------- 7.2/7.2 MB 130.2 kB/s eta 0:00:00\n",
      "Requirement already satisfied: numpy>=1.19 in c:\\users\\fessi\\appdata\\local\\packages\\pythonsoftwarefoundation.python.3.10_qbz5n2kfra8p0\\localcache\\local-packages\\python310\\site-packages (from matplotlib) (1.23.4)\n",
      "Collecting fonttools>=4.22.0\n",
      "  Downloading fonttools-4.38.0-py3-none-any.whl (965 kB)\n",
      "     ------------------------------------ 965.4/965.4 kB 206.5 kB/s eta 0:00:00\n",
      "Requirement already satisfied: packaging>=20.0 in c:\\users\\fessi\\appdata\\local\\packages\\pythonsoftwarefoundation.python.3.10_qbz5n2kfra8p0\\localcache\\local-packages\\python310\\site-packages (from matplotlib) (21.3)\n",
      "Requirement already satisfied: pyparsing>=2.2.1 in c:\\users\\fessi\\appdata\\local\\packages\\pythonsoftwarefoundation.python.3.10_qbz5n2kfra8p0\\localcache\\local-packages\\python310\\site-packages (from matplotlib) (3.0.9)\n",
      "Collecting cycler>=0.10\n",
      "  Using cached cycler-0.11.0-py3-none-any.whl (6.4 kB)\n",
      "Collecting contourpy>=1.0.1\n",
      "  Downloading contourpy-1.0.6-cp310-cp310-win_amd64.whl (163 kB)\n",
      "     ------------------------------------ 163.6/163.6 kB 172.1 kB/s eta 0:00:00\n",
      "Requirement already satisfied: python-dateutil>=2.7 in c:\\users\\fessi\\appdata\\local\\packages\\pythonsoftwarefoundation.python.3.10_qbz5n2kfra8p0\\localcache\\local-packages\\python310\\site-packages (from matplotlib) (2.8.2)\n",
      "Collecting pillow>=6.2.0\n",
      "  Downloading Pillow-9.3.0-cp310-cp310-win_amd64.whl (2.5 MB)\n",
      "     ---------------------------------------- 2.5/2.5 MB 124.2 kB/s eta 0:00:00\n",
      "Collecting kiwisolver>=1.0.1\n",
      "  Using cached kiwisolver-1.4.4-cp310-cp310-win_amd64.whl (55 kB)\n",
      "Requirement already satisfied: six>=1.5 in c:\\users\\fessi\\appdata\\local\\packages\\pythonsoftwarefoundation.python.3.10_qbz5n2kfra8p0\\localcache\\local-packages\\python310\\site-packages (from python-dateutil>=2.7->matplotlib) (1.16.0)\n",
      "Installing collected packages: pillow, kiwisolver, fonttools, cycler, contourpy, matplotlib\n",
      "Successfully installed contourpy-1.0.6 cycler-0.11.0 fonttools-4.38.0 kiwisolver-1.4.4 matplotlib-3.6.2 pillow-9.3.0\n",
      "Note: you may need to restart the kernel to use updated packages.\n"
     ]
    },
    {
     "name": "stderr",
     "output_type": "stream",
     "text": [
      "  WARNING: The scripts fonttools.exe, pyftmerge.exe, pyftsubset.exe and ttx.exe are installed in 'C:\\Users\\fessi\\AppData\\Local\\Packages\\PythonSoftwareFoundation.Python.3.10_qbz5n2kfra8p0\\LocalCache\\local-packages\\Python310\\Scripts' which is not on PATH.\n",
      "  Consider adding this directory to PATH or, if you prefer to suppress this warning, use --no-warn-script-location.\n",
      "\n",
      "[notice] A new release of pip available: 22.2.2 -> 22.3.1\n",
      "[notice] To update, run: C:\\Users\\fessi\\AppData\\Local\\Microsoft\\WindowsApps\\PythonSoftwareFoundation.Python.3.10_qbz5n2kfra8p0\\python.exe -m pip install --upgrade pip\n"
     ]
    }
   ],
   "source": [
    "pip install matplotlib"
   ]
  },
  {
   "cell_type": "code",
   "execution_count": null,
   "metadata": {},
   "outputs": [
    {
     "data": {
      "image/png": "[encoded data removed]",
      "text/plain": [
       "<Figure size 640x480 with 1 Axes>"
      ]
     },
     "metadata": {},
     "output_type": "display_data"
    }
   ],
   "source": [
    "import matplotlib.pyplot as plt\n",
    "\n",
    "plt.plot(cib,moy,'ob')\n",
    "plt.show()"
   ]
  },
  {
   "cell_type": "code",
   "execution_count": 56,
   "metadata": {},
   "outputs": [],
   "source": [
    "pip install scipy "
   ]
  },
  {
   "cell_type": "code",
   "execution_count": 51,
   "metadata": {},
   "outputs": [
    {
     "ename": "ModuleNotFoundError",
     "evalue": "No module named 'scipy'",
     "output_type": "error",
     "traceback": [
      "\u001b[1;31m---------------------------------------------------------------------------\u001b[0m",
      "\u001b[1;31mModuleNotFoundError\u001b[0m                       Traceback (most recent call last)",
      "Cell \u001b[1;32mIn [51], line 1\u001b[0m\n\u001b[1;32m----> 1\u001b[0m \u001b[39mfrom\u001b[39;00m \u001b[39mscipy\u001b[39;00m \u001b[39mimport\u001b[39;00m stats \n\u001b[0;32m      2\u001b[0m slope , interropt , r_value , p_value , std_err\u001b[39m=\u001b[39mstats\u001b[39m.\u001b[39mlinregress(cib,moy)\n",
      "\u001b[1;31mModuleNotFoundError\u001b[0m: No module named 'scipy'"
     ]
    }
   ],
   "source": [
    "from scipy import stats \n",
    "slope , interropt , r_value , p_value , std_err=stats.linregress(cib,moy)\n"
   ]
  },
  {
   "cell_type": "code",
   "execution_count": 52,
   "metadata": {},
   "outputs": [
    {
     "ename": "NameError",
     "evalue": "name 'slope' is not defined",
     "output_type": "error",
     "traceback": [
      "\u001b[1;31m---------------------------------------------------------------------------\u001b[0m",
      "\u001b[1;31mNameError\u001b[0m                                 Traceback (most recent call last)",
      "Cell \u001b[1;32mIn [52], line 1\u001b[0m\n\u001b[1;32m----> 1\u001b[0m a,b\u001b[39m=\u001b[39mslope\u001b[39m.\u001b[39mintercept\n\u001b[0;32m      2\u001b[0m \u001b[39mprint\u001b[39m(a,b)\n",
      "\u001b[1;31mNameError\u001b[0m: name 'slope' is not defined"
     ]
    }
   ],
   "source": [
    "a,b=slope.intercept\n",
    "print(a,b)"
   ]
  },
  {
   "cell_type": "code",
   "execution_count": 53,
   "metadata": {},
   "outputs": [
    {
     "ename": "NameError",
     "evalue": "name 'ply' is not defined",
     "output_type": "error",
     "traceback": [
      "\u001b[1;31m---------------------------------------------------------------------------\u001b[0m",
      "\u001b[1;31mNameError\u001b[0m                                 Traceback (most recent call last)",
      "Cell \u001b[1;32mIn [53], line 1\u001b[0m\n\u001b[1;32m----> 1\u001b[0m ply\u001b[39m*\u001b[39mt\u001b[39m.\u001b[39mplot(cib,moy,\u001b[39m'\u001b[39m\u001b[39mob\u001b[39m\u001b[39m'\u001b[39m)\n\u001b[0;32m      2\u001b[0m x\u001b[39m=\u001b[39mlinspace(\u001b[39m20\u001b[39m,\u001b[39m45\u001b[39m,\u001b[39m1001\u001b[39m)\u001b[39m#intervalle entre 20et 45 \u001b[39;00m\n\u001b[0;32m      3\u001b[0m y\u001b[39m=\u001b[39ma\u001b[39m*\u001b[39mx\u001b[39m+\u001b[39mb\u001b[39m#x taille de table lubo\u001b[39;00m\n",
      "\u001b[1;31mNameError\u001b[0m: name 'ply' is not defined"
     ]
    }
   ],
   "source": [
    "ply*t.plot(cib,moy,'ob')\n",
    "x=linspace(20,45,1001)#intervalle entre 20et 45 \n",
    "y=a*x+b#x taille de table lubo\n",
    "plt.plot(x,y,'-r')#formule replace directement dans simulation \n",
    "plt.show()"
   ]
  },
  {
   "cell_type": "markdown",
   "metadata": {},
   "source": [
    "### Compléter le code et commenter"
   ]
  },
  {
   "cell_type": "code",
   "execution_count": null,
   "metadata": {
    "scrolled": false
   },
   "outputs": [],
   "source": [
    "A=0\n",
    "NA=0\n",
    "S=10\n",
    "c=0\n",
    "while (A<S) :\n",
    "    pass"
   ]
  },
  {
   "cell_type": "markdown",
   "metadata": {},
   "source": [
    "### Simulation\n",
    "Ecrire une foction `sim` qui simule le jeux et qui prend comme variable le nombre de pas $n$ nécessazire pour atteindre la cible"
   ]
  },
  {
   "cell_type": "code",
   "execution_count": null,
   "metadata": {},
   "outputs": [],
   "source": [
    "def sim(S):\n",
    "    A=0\n",
    "    NA=0\n",
    "    c=0\n",
    "    while (A<S) :\n",
    "        pass\n",
    "    return c\n",
    "    "
   ]
  },
  {
   "cell_type": "code",
   "execution_count": 10,
   "metadata": {},
   "outputs": [
    {
     "data": {
      "text/plain": [
       "13"
      ]
     },
     "execution_count": 10,
     "metadata": {},
     "output_type": "execute_result"
    }
   ],
   "source": [
    "sim(20)"
   ]
  },
  {
   "cell_type": "markdown",
   "metadata": {},
   "source": [
    "### Simulation de $10^5$  scénario "
   ]
  },
  {
   "cell_type": "code",
   "execution_count": null,
   "metadata": {},
   "outputs": [],
   "source": [
    "Freq=np.fromiter((sim(20) for i in range(10**5)),dtype=int)"
   ]
  },
  {
   "cell_type": "code",
   "execution_count": 148,
   "metadata": {},
   "outputs": [
    {
     "data": {
      "text/plain": [
       "16.17253"
      ]
     },
     "execution_count": 148,
     "metadata": {},
     "output_type": "execute_result"
    }
   ],
   "source": [
    "ESP=Freq.sum()/10**5"
   ]
  },
  {
   "cell_type": "code",
   "execution_count": 11,
   "metadata": {},
   "outputs": [],
   "source": [
    "x=list(range(10,20))"
   ]
  },
  {
   "cell_type": "code",
   "execution_count": 14,
   "metadata": {},
   "outputs": [],
   "source": [
    "y=[np.fromiter((sim(u) for i in range(5*10**4)),dtype=int).sum()/50000 for u in x]"
   ]
  },
  {
   "cell_type": "code",
   "execution_count": 15,
   "metadata": {},
   "outputs": [],
   "source": [
    "import matplotlib.pyplot as plt"
   ]
  },
  {
   "cell_type": "code",
   "execution_count": 16,
   "metadata": {},
   "outputs": [
    {
     "data": {
      "text/plain": [
       "[<matplotlib.lines.Line2D at 0x1ccd4780588>]"
      ]
     },
     "execution_count": 16,
     "metadata": {},
     "output_type": "execute_result"
    },
    {
     "data": {
      "image/png": "[encoded data removed]",
      "text/plain": [
       "<Figure size 432x288 with 1 Axes>"
      ]
     },
     "metadata": {
      "needs_background": "light"
     },
     "output_type": "display_data"
    }
   ],
   "source": [
    "plt.plot(x,y)"
   ]
  },
  {
   "cell_type": "code",
   "execution_count": 17,
   "metadata": {},
   "outputs": [],
   "source": [
    "from scipy import stats\n",
    "import numpy as np\n",
    "slope, intercept, r_value, p_value, std_err = stats.linregress(x,y)"
   ]
  },
  {
   "cell_type": "code",
   "execution_count": 18,
   "metadata": {},
   "outputs": [
    {
     "data": {
      "text/plain": [
       "0.28871527272727254"
      ]
     },
     "execution_count": 18,
     "metadata": {},
     "output_type": "execute_result"
    }
   ],
   "source": [
    "slope"
   ]
  },
  {
   "cell_type": "code",
   "execution_count": 19,
   "metadata": {},
   "outputs": [
    {
     "data": {
      "text/plain": [
       "10.443562545454547"
      ]
     },
     "execution_count": 19,
     "metadata": {},
     "output_type": "execute_result"
    }
   ],
   "source": [
    "intercept\n"
   ]
  },
  {
   "cell_type": "code",
   "execution_count": null,
   "metadata": {},
   "outputs": [],
   "source": []
  }
 ],
 "metadata": {
  "kernelspec": {
   "display_name": "Python 3.10.8 64-bit (microsoft store)",
   "language": "python",
   "name": "python3"
  },
  "language_info": {
   "codemirror_mode": {
    "name": "ipython",
    "version": 3
   },
   "file_extension": ".py",
   "mimetype": "text/x-python",
   "name": "python",
   "nbconvert_exporter": "python",
   "pygments_lexer": "ipython3",
   "version": "3.10.8"
  },
  "vscode": {
   "interpreter": {
    "hash": "cb90407517ee392175bd0403fba1bb3930de7304086475bf94374790c215d0bf"
   }
  }
 },
 "nbformat": 4,
 "nbformat_minor": 4
}
